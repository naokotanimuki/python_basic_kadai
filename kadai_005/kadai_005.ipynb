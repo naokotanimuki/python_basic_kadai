{
  "nbformat": 4,
  "nbformat_minor": 0,
  "metadata": {
    "colab": {
      "provenance": []
    },
    "kernelspec": {
      "name": "python3",
      "display_name": "Python 3"
    },
    "language_info": {
      "name": "python"
    }
  },
  "cells": [
    {
      "cell_type": "code",
      "execution_count": 2,
      "metadata": {
        "colab": {
          "base_uri": "https://localhost:8080/"
        },
        "id": "EKnxM5B1yxgS",
        "outputId": "f51495a5-0a79-49f3-8ca5-01a7d5a3e9b3"
      },
      "outputs": [
        {
          "output_type": "stream",
          "name": "stdout",
          "text": [
            "75.0cm²\n"
          ]
        }
      ],
      "source": [
        "upper_line = 10\n",
        "under_line = 20\n",
        "height = 5\n",
        "\n",
        "area = (upper_line + under_line) * height/2\n",
        "print(f\"{area}cm²\")"
      ]
    }
  ]
}