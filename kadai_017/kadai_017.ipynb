{
  "nbformat": 4,
  "nbformat_minor": 0,
  "metadata": {
    "colab": {
      "provenance": []
    },
    "kernelspec": {
      "name": "python3",
      "display_name": "Python 3"
    },
    "language_info": {
      "name": "python"
    }
  },
  "cells": [
    {
      "cell_type": "code",
      "execution_count": 44,
      "metadata": {
        "colab": {
          "base_uri": "https://localhost:8080/"
        },
        "id": "cwWr35p8IEok",
        "outputId": "219b45a5-6a17-4757-df81-9db21decf14f"
      },
      "outputs": [
        {
          "output_type": "stream",
          "name": "stdout",
          "text": [
            "太郎さん、あなたは大人ではありません。\n",
            "花子さん、あなたは大人です。\n"
          ]
        }
      ],
      "source": [
        "\n",
        "class Human:\n",
        "  def __init__ (self, name, age):\n",
        "    self.name = name\n",
        "    self.age = age\n",
        "\n",
        "\n",
        "    if age >= 20:\n",
        "        print(f\"{name}さん、あなたは大人です。\")\n",
        "    else:\n",
        "        print(f\"{name}さん、あなたは大人ではありません。\")\n",
        "\n",
        "sample1 = Human(\"太郎\", 19)\n",
        "sample2 = Human(\"花子\", 30)\n"
      ]
    }
  ]
}