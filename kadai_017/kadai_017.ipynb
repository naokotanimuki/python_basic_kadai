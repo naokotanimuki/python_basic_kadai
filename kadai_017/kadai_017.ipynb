{
  "nbformat": 4,
  "nbformat_minor": 0,
  "metadata": {
    "colab": {
      "provenance": []
    },
    "kernelspec": {
      "name": "python3",
      "display_name": "Python 3"
    },
    "language_info": {
      "name": "python"
    }
  },
  "cells": [
    {
      "cell_type": "code",
      "execution_count": 61,
      "metadata": {
        "colab": {
          "base_uri": "https://localhost:8080/"
        },
        "id": "cwWr35p8IEok",
        "outputId": "b8858b39-5a36-45c1-d0b7-75fd6e2be285"
      },
      "outputs": [
        {
          "output_type": "stream",
          "name": "stdout",
          "text": [
            "太郎さん、あなたは大人ではありません。\n",
            "花子さん、あなたは大人です。\n"
          ]
        }
      ],
      "source": [
        "class Human:\n",
        "  def __init__ (self, name, age):\n",
        "    self.name = name\n",
        "    self.age = age\n",
        "\n",
        "  def check_adult(self):\n",
        "    if self.age >= 20:\n",
        "      print(f\"{self.name}さん、あなたは大人です。\")\n",
        "    else:\n",
        "      print(f\"{self.name}さん、あなたは大人ではありません。\")\n",
        "\n",
        "humans = [\n",
        "    Human(\"太郎\", 19),\n",
        "    Human(\"花子\", 30)\n",
        "]\n",
        "\n",
        "for person in humans:\n",
        "  person.check_adult()"
      ]
    }
  ]
}