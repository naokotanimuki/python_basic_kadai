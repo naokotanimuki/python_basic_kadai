{
  "nbformat": 4,
  "nbformat_minor": 0,
  "metadata": {
    "colab": {
      "provenance": []
    },
    "kernelspec": {
      "name": "python3",
      "display_name": "Python 3"
    },
    "language_info": {
      "name": "python"
    }
  },
  "cells": [
    {
      "cell_type": "code",
      "execution_count": 1,
      "metadata": {
        "colab": {
          "base_uri": "https://localhost:8080/"
        },
        "id": "1zPZFxhUhIaM",
        "outputId": "d8898187-c3c0-4228-e04f-19e134f4fb77"
      },
      "outputs": [
        {
          "output_type": "execute_result",
          "data": {
            "text/plain": [
              "121.0"
            ]
          },
          "metadata": {},
          "execution_count": 1
        }
      ],
      "source": [
        "def add_tax(product, tax_rate):\n",
        "  sum = product + (product * tax_rate / 100)\n",
        "  return sum\n",
        "\n",
        "add_tax(110, 10)"
      ]
    }
  ]
}